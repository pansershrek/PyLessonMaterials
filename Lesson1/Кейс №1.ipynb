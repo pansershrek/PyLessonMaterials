{
 "cells": [
  {
   "cell_type": "code",
   "execution_count": 1,
   "metadata": {},
   "outputs": [],
   "source": [
    "#Подключаем библиотеку pandas работы с данными, и ставим ей в соответствие псевдоним pd\n",
    "import pandas as pd\n",
    "#Подключаем библиотеку pyplot для рисовнаия графиков, и ставим ей в соответствие псевдоним plt\n",
    "import matplotlib.pyplot as plt\n",
    "#Подключаем компаненту datetime из библиотеке datetime для работы с временем, \n",
    "from datetime import datetime"
   ]
  },
  {
   "cell_type": "code",
   "execution_count": 2,
   "metadata": {},
   "outputs": [],
   "source": [
    "#Загружаем данные из xlsx-файла vk_data.xlsx в переменную df\n",
    "df = pd.read_excel(\"vk_data.xlsx\")"
   ]
  },
  {
   "cell_type": "code",
   "execution_count": 3,
   "metadata": {},
   "outputs": [
    {
     "data": {
      "text/html": [
       "<div>\n",
       "<style scoped>\n",
       "    .dataframe tbody tr th:only-of-type {\n",
       "        vertical-align: middle;\n",
       "    }\n",
       "\n",
       "    .dataframe tbody tr th {\n",
       "        vertical-align: top;\n",
       "    }\n",
       "\n",
       "    .dataframe thead th {\n",
       "        text-align: right;\n",
       "    }\n",
       "</style>\n",
       "<table border=\"1\" class=\"dataframe\">\n",
       "  <thead>\n",
       "    <tr style=\"text-align: right;\">\n",
       "      <th></th>\n",
       "      <th>text</th>\n",
       "      <th>author</th>\n",
       "      <th>date</th>\n",
       "    </tr>\n",
       "  </thead>\n",
       "  <tbody>\n",
       "    <tr>\n",
       "      <th>0</th>\n",
       "      <td>Машинное обучение в облаке на языке Python</td>\n",
       "      <td>-91453124</td>\n",
       "      <td>2015-06-10 11:02:11</td>\n",
       "    </tr>\n",
       "    <tr>\n",
       "      <th>1</th>\n",
       "      <td>📌 Большая шпаргалка по JavaScriptСохраняй себе...</td>\n",
       "      <td>-54530371</td>\n",
       "      <td>2020-05-02 11:02:02</td>\n",
       "    </tr>\n",
       "    <tr>\n",
       "      <th>2</th>\n",
       "      <td>⚡ Главные IT-новости к этому часу:Агрегатор оц...</td>\n",
       "      <td>-20629724</td>\n",
       "      <td>2020-09-08 08:30:52</td>\n",
       "    </tr>\n",
       "    <tr>\n",
       "      <th>3</th>\n",
       "      <td>Программист 2020: Терминатор отдыхает.Эволюция...</td>\n",
       "      <td>-20629724</td>\n",
       "      <td>2020-09-13 13:00:36</td>\n",
       "    </tr>\n",
       "    <tr>\n",
       "      <th>4</th>\n",
       "      <td>В.Н.И.М.А.Н.И.Е, _ У.Д.А.Л.Ё.Н.Н.А.Я _ Р.А.Б.О...</td>\n",
       "      <td>459994712</td>\n",
       "      <td>2018-02-19 14:53:38</td>\n",
       "    </tr>\n",
       "  </tbody>\n",
       "</table>\n",
       "</div>"
      ],
      "text/plain": [
       "                                                text     author  \\\n",
       "0         Машинное обучение в облаке на языке Python  -91453124   \n",
       "1  📌 Большая шпаргалка по JavaScriptСохраняй себе...  -54530371   \n",
       "2  ⚡ Главные IT-новости к этому часу:Агрегатор оц...  -20629724   \n",
       "3  Программист 2020: Терминатор отдыхает.Эволюция...  -20629724   \n",
       "4  В.Н.И.М.А.Н.И.Е, _ У.Д.А.Л.Ё.Н.Н.А.Я _ Р.А.Б.О...  459994712   \n",
       "\n",
       "                 date  \n",
       "0 2015-06-10 11:02:11  \n",
       "1 2020-05-02 11:02:02  \n",
       "2 2020-09-08 08:30:52  \n",
       "3 2020-09-13 13:00:36  \n",
       "4 2018-02-19 14:53:38  "
      ]
     },
     "execution_count": 3,
     "metadata": {},
     "output_type": "execute_result"
    }
   ],
   "source": [
    "#Выведем первые несколько строчек исходных данных (по умолчанию 5)\n",
    "df.head()"
   ]
  },
  {
   "cell_type": "code",
   "execution_count": 4,
   "metadata": {},
   "outputs": [
    {
     "name": "stdout",
     "output_type": "stream",
     "text": [
      "Машинное обучение в облаке на языке Python\n"
     ]
    }
   ],
   "source": [
    "#Выведем текст первого сообщения\n",
    "print(df[\"text\"][0])"
   ]
  },
  {
   "cell_type": "code",
   "execution_count": 5,
   "metadata": {},
   "outputs": [
    {
     "name": "stdout",
     "output_type": "stream",
     "text": [
      "Таблица имеет размерность (12068, 3)\n",
      "Всего записей 12068\n"
     ]
    }
   ],
   "source": [
    "#Выведем общее размерность таблицы df\n",
    "print(f\"Таблица имеет размерность {df.shape}\")\n",
    "#Выведем общее количество записей\n",
    "print(f\"Всего записей {df.shape[0]}\")"
   ]
  },
  {
   "cell_type": "code",
   "execution_count": 6,
   "metadata": {},
   "outputs": [
    {
     "data": {
      "text/html": [
       "<div>\n",
       "<style scoped>\n",
       "    .dataframe tbody tr th:only-of-type {\n",
       "        vertical-align: middle;\n",
       "    }\n",
       "\n",
       "    .dataframe tbody tr th {\n",
       "        vertical-align: top;\n",
       "    }\n",
       "\n",
       "    .dataframe thead th {\n",
       "        text-align: right;\n",
       "    }\n",
       "</style>\n",
       "<table border=\"1\" class=\"dataframe\">\n",
       "  <thead>\n",
       "    <tr style=\"text-align: right;\">\n",
       "      <th></th>\n",
       "      <th>text</th>\n",
       "      <th>author</th>\n",
       "      <th>date</th>\n",
       "    </tr>\n",
       "  </thead>\n",
       "  <tbody>\n",
       "    <tr>\n",
       "      <th>12063</th>\n",
       "      <td>Building Evolutionary Architectures (2017)Авто...</td>\n",
       "      <td>-54530371</td>\n",
       "      <td>2019-12-18 12:00:06</td>\n",
       "    </tr>\n",
       "    <tr>\n",
       "      <th>12064</th>\n",
       "      <td>Math Adventures with Python (2019) Автор: Pete...</td>\n",
       "      <td>-54530371</td>\n",
       "      <td>2020-10-11 16:01:00</td>\n",
       "    </tr>\n",
       "    <tr>\n",
       "      <th>12065</th>\n",
       "      <td>Интереснейшее влияние Cyclone.Мало кто слышал ...</td>\n",
       "      <td>-20629724</td>\n",
       "      <td>2020-10-21 18:00:45</td>\n",
       "    </tr>\n",
       "    <tr>\n",
       "      <th>12066</th>\n",
       "      <td>NaN</td>\n",
       "      <td>-61384743</td>\n",
       "      <td>2013-11-24 10:57:04</td>\n",
       "    </tr>\n",
       "    <tr>\n",
       "      <th>12067</th>\n",
       "      <td>NaN</td>\n",
       "      <td>-61384743</td>\n",
       "      <td>2014-06-28 22:52:02</td>\n",
       "    </tr>\n",
       "  </tbody>\n",
       "</table>\n",
       "</div>"
      ],
      "text/plain": [
       "                                                    text    author  \\\n",
       "12063  Building Evolutionary Architectures (2017)Авто... -54530371   \n",
       "12064  Math Adventures with Python (2019) Автор: Pete... -54530371   \n",
       "12065  Интереснейшее влияние Cyclone.Мало кто слышал ... -20629724   \n",
       "12066                                                NaN -61384743   \n",
       "12067                                                NaN -61384743   \n",
       "\n",
       "                     date  \n",
       "12063 2019-12-18 12:00:06  \n",
       "12064 2020-10-11 16:01:00  \n",
       "12065 2020-10-21 18:00:45  \n",
       "12066 2013-11-24 10:57:04  \n",
       "12067 2014-06-28 22:52:02  "
      ]
     },
     "execution_count": 6,
     "metadata": {},
     "output_type": "execute_result"
    }
   ],
   "source": [
    "#Заметим, что в df некоторые строчки имеет значени NaN в поле text\n",
    "df.tail()"
   ]
  },
  {
   "cell_type": "code",
   "execution_count": 7,
   "metadata": {},
   "outputs": [],
   "source": [
    "#Избавимся от строк, где присутствуют Nan\n",
    "df = df.dropna()\n",
    "#При удалении строк индексы не сохраняют однородность, перестроим индексы\n",
    "df = df.reset_index(drop=True)"
   ]
  },
  {
   "cell_type": "code",
   "execution_count": 8,
   "metadata": {},
   "outputs": [
    {
     "name": "stdout",
     "output_type": "stream",
     "text": [
      "Приведем строку   МаМа МыЛа РаМу   к: нижнему регистру -   мама мыла раму  , верхнему регистру -   МАМА МЫЛА РАМУ  \n",
      "Удалим пробелы из сткрои   МаМа МыЛа РаМу   в начале и конце: МаМа МыЛа РаМу\n",
      "Применим сразу две операции: мама мыла раму\n"
     ]
    }
   ],
   "source": [
    "#Заметим что text имеют заглавные буквы и могут иметь пробелы в начале/конце строки.\n",
    "#Рассмотрим функции строк\n",
    "string = \"  МаМа МыЛа РаМу  \"\n",
    "print(f\"Приведем строку {string} к: нижнему регистру - {string.lower()}, верхнему регистру - {string.upper()}\")\n",
    "print(f\"Удалим пробелы из сткрои {string} в начале и конце: {string.strip()}\")\n",
    "print(f\"Применим сразу две операции: {string.lower().strip()}\")"
   ]
  },
  {
   "cell_type": "code",
   "execution_count": 9,
   "metadata": {},
   "outputs": [],
   "source": [
    "#Реализуем функцию transform_string которая принемает строку и применяет описынные выше приобразования\n",
    "def transform_string(string):\n",
    "    return string.lower().strip()\n",
    "#Или применим более короткий вариант с lambda функцией\n",
    "transform_string = lambda x: x.lower().strip()"
   ]
  },
  {
   "cell_type": "code",
   "execution_count": 10,
   "metadata": {},
   "outputs": [],
   "source": [
    "#Привидем transform_string ко всем строка в df\n",
    "df[\"text\"] = df[\"text\"].apply(transform_string)"
   ]
  },
  {
   "cell_type": "code",
   "execution_count": 11,
   "metadata": {},
   "outputs": [
    {
     "data": {
      "text/html": [
       "<div>\n",
       "<style scoped>\n",
       "    .dataframe tbody tr th:only-of-type {\n",
       "        vertical-align: middle;\n",
       "    }\n",
       "\n",
       "    .dataframe tbody tr th {\n",
       "        vertical-align: top;\n",
       "    }\n",
       "\n",
       "    .dataframe thead th {\n",
       "        text-align: right;\n",
       "    }\n",
       "</style>\n",
       "<table border=\"1\" class=\"dataframe\">\n",
       "  <thead>\n",
       "    <tr style=\"text-align: right;\">\n",
       "      <th></th>\n",
       "      <th>text</th>\n",
       "      <th>author</th>\n",
       "      <th>date</th>\n",
       "    </tr>\n",
       "  </thead>\n",
       "  <tbody>\n",
       "    <tr>\n",
       "      <th>0</th>\n",
       "      <td>машинное обучение в облаке на языке python</td>\n",
       "      <td>-91453124</td>\n",
       "      <td>2015-06-10 11:02:11</td>\n",
       "    </tr>\n",
       "    <tr>\n",
       "      <th>13</th>\n",
       "      <td>black hat go (2020) авторы: tom steele, chris ...</td>\n",
       "      <td>-54530371</td>\n",
       "      <td>2020-02-23 17:01:00</td>\n",
       "    </tr>\n",
       "    <tr>\n",
       "      <th>15</th>\n",
       "      <td>building django 2.0 web applications: create e...</td>\n",
       "      <td>-79831840</td>\n",
       "      <td>2020-10-21 15:00:08</td>\n",
       "    </tr>\n",
       "    <tr>\n",
       "      <th>17</th>\n",
       "      <td>3 самых важных сферы применения python: возмож...</td>\n",
       "      <td>-54530371</td>\n",
       "      <td>2019-05-29 09:00:04</td>\n",
       "    </tr>\n",
       "    <tr>\n",
       "      <th>19</th>\n",
       "      <td>python для решения практических задачскачивани...</td>\n",
       "      <td>-79831840</td>\n",
       "      <td>2020-08-18 18:00:01</td>\n",
       "    </tr>\n",
       "  </tbody>\n",
       "</table>\n",
       "</div>"
      ],
      "text/plain": [
       "                                                 text    author  \\\n",
       "0          машинное обучение в облаке на языке python -91453124   \n",
       "13  black hat go (2020) авторы: tom steele, chris ... -54530371   \n",
       "15  building django 2.0 web applications: create e... -79831840   \n",
       "17  3 самых важных сферы применения python: возмож... -54530371   \n",
       "19  python для решения практических задачскачивани... -79831840   \n",
       "\n",
       "                  date  \n",
       "0  2015-06-10 11:02:11  \n",
       "13 2020-02-23 17:01:00  \n",
       "15 2020-10-21 15:00:08  \n",
       "17 2019-05-29 09:00:04  \n",
       "19 2020-08-18 18:00:01  "
      ]
     },
     "execution_count": 11,
     "metadata": {},
     "output_type": "execute_result"
    }
   ],
   "source": [
    "#Соберем все синонимы слова python\n",
    "python_synonyms = [\"python\", \"питон\", \"пайтон\"]\n",
    "#Посмотрим сколько строк сожержат слово python\n",
    "df_python = df[df[\"text\"].apply(lambda x: any([y in x for y in python_synonyms]))]\n",
    "df_python.head()"
   ]
  },
  {
   "cell_type": "code",
   "execution_count": 12,
   "metadata": {},
   "outputs": [
    {
     "name": "stdout",
     "output_type": "stream",
     "text": [
      "Всего строк содержащих слово python: 1387\n"
     ]
    }
   ],
   "source": [
    "#Посмотрим сколько всеего строк сожержат слово python \n",
    "print(f\"Всего строк содержащих слово python: {df_python.shape[0]}\")"
   ]
  },
  {
   "cell_type": "code",
   "execution_count": 13,
   "metadata": {},
   "outputs": [
    {
     "name": "stdout",
     "output_type": "stream",
     "text": [
      "Всего уникальных id авторов: 21\n",
      "Все уникальные id авторов: [-91453124 -54530371 -79831840 -20629724 571836684 517177679 539238123\n",
      " 583932944  90780920 482250746 133604210 327442853 493476570 137652947\n",
      " 537981243 265981551 510330162  16066423 569882984 482249549 403066287]\n"
     ]
    }
   ],
   "source": [
    "#Узнаем сколько всего пользователей писали сообщения, содержащих слово python\n",
    "print(f\"Всего уникальных id авторов: {df_python['author'].unique().shape[0]}\")\n",
    "print(f\"Все уникальные id авторов: {df_python['author'].unique()}\")"
   ]
  },
  {
   "cell_type": "code",
   "execution_count": 14,
   "metadata": {},
   "outputs": [
    {
     "name": "stdout",
     "output_type": "stream",
     "text": [
      "Заметим что столбец date уже имеет тип <class 'pandas._libs.tslibs.timestamps.Timestamp'>, т.е. нам не мужно приводить строку ко времени\n"
     ]
    },
    {
     "data": {
      "text/html": [
       "<div>\n",
       "<style scoped>\n",
       "    .dataframe tbody tr th:only-of-type {\n",
       "        vertical-align: middle;\n",
       "    }\n",
       "\n",
       "    .dataframe tbody tr th {\n",
       "        vertical-align: top;\n",
       "    }\n",
       "\n",
       "    .dataframe thead th {\n",
       "        text-align: right;\n",
       "    }\n",
       "</style>\n",
       "<table border=\"1\" class=\"dataframe\">\n",
       "  <thead>\n",
       "    <tr style=\"text-align: right;\">\n",
       "      <th></th>\n",
       "      <th>text</th>\n",
       "      <th>author</th>\n",
       "      <th>date</th>\n",
       "      <th>year_month</th>\n",
       "    </tr>\n",
       "  </thead>\n",
       "  <tbody>\n",
       "    <tr>\n",
       "      <th>0</th>\n",
       "      <td>машинное обучение в облаке на языке python</td>\n",
       "      <td>-91453124</td>\n",
       "      <td>2015-06-10 11:02:11</td>\n",
       "      <td>2015_6</td>\n",
       "    </tr>\n",
       "    <tr>\n",
       "      <th>13</th>\n",
       "      <td>black hat go (2020) авторы: tom steele, chris ...</td>\n",
       "      <td>-54530371</td>\n",
       "      <td>2020-02-23 17:01:00</td>\n",
       "      <td>2020_2</td>\n",
       "    </tr>\n",
       "    <tr>\n",
       "      <th>15</th>\n",
       "      <td>building django 2.0 web applications: create e...</td>\n",
       "      <td>-79831840</td>\n",
       "      <td>2020-10-21 15:00:08</td>\n",
       "      <td>2020_10</td>\n",
       "    </tr>\n",
       "    <tr>\n",
       "      <th>17</th>\n",
       "      <td>3 самых важных сферы применения python: возмож...</td>\n",
       "      <td>-54530371</td>\n",
       "      <td>2019-05-29 09:00:04</td>\n",
       "      <td>2019_5</td>\n",
       "    </tr>\n",
       "    <tr>\n",
       "      <th>19</th>\n",
       "      <td>python для решения практических задачскачивани...</td>\n",
       "      <td>-79831840</td>\n",
       "      <td>2020-08-18 18:00:01</td>\n",
       "      <td>2020_8</td>\n",
       "    </tr>\n",
       "  </tbody>\n",
       "</table>\n",
       "</div>"
      ],
      "text/plain": [
       "                                                 text    author  \\\n",
       "0          машинное обучение в облаке на языке python -91453124   \n",
       "13  black hat go (2020) авторы: tom steele, chris ... -54530371   \n",
       "15  building django 2.0 web applications: create e... -79831840   \n",
       "17  3 самых важных сферы применения python: возмож... -54530371   \n",
       "19  python для решения практических задачскачивани... -79831840   \n",
       "\n",
       "                  date year_month  \n",
       "0  2015-06-10 11:02:11     2015_6  \n",
       "13 2020-02-23 17:01:00     2020_2  \n",
       "15 2020-10-21 15:00:08    2020_10  \n",
       "17 2019-05-29 09:00:04     2019_5  \n",
       "19 2020-08-18 18:00:01     2020_8  "
      ]
     },
     "execution_count": 14,
     "metadata": {},
     "output_type": "execute_result"
    }
   ],
   "source": [
    "print(f\"Заметим что столбец date уже имеет тип {type(df_python['date'][0])}, т.е. нам не мужно приводить строку ко времени\")\n",
    "#Добавим в df столбец, который содержит дату в виде год:месяц\n",
    "df_python = df_python.assign(year_month = df_python[\"date\"].apply(lambda x: f\"{x.year}_{x.month}\"))\n",
    "df_python.head()"
   ]
  },
  {
   "cell_type": "code",
   "execution_count": 15,
   "metadata": {},
   "outputs": [
    {
     "data": {
      "text/plain": [
       "<matplotlib.axes._subplots.AxesSubplot at 0x110f89d50>"
      ]
     },
     "execution_count": 15,
     "metadata": {},
     "output_type": "execute_result"
    },
    {
     "data": {
      "image/png": "[encoded data removed]",
      "text/plain": [
       "<Figure size 1440x1440 with 1 Axes>"
      ]
     },
     "metadata": {
      "needs_background": "light"
     },
     "output_type": "display_data"
    }
   ],
   "source": [
    "#Посчитаем сколько сообщений пришло в каждый месяц каждого гожа\n",
    "year_month_count = df_python[\"year_month\"].value_counts()\n",
    "#Отрисуем распределение колличества сообщений по месяцам каждого года\n",
    "year_month_count.plot.bar(figsize=(20,20))"
   ]
  },
  {
   "cell_type": "code",
   "execution_count": 16,
   "metadata": {},
   "outputs": [
    {
     "name": "stdout",
     "output_type": "stream",
     "text": [
      "Всего в 2020 году было 631 сообщерний содержащих слово python\n"
     ]
    }
   ],
   "source": [
    "#Посчитаем сколько раз слово python упомянулось в этом году\n",
    "python_count2020 = df_python[df_python[\"date\"].apply(lambda x: x.year==2020)].shape[0]\n",
    "print(f\"Всего в 2020 году было {python_count2020} сообщерний содержащих слово python\")"
   ]
  },
  {
   "cell_type": "code",
   "execution_count": 17,
   "metadata": {},
   "outputs": [
    {
     "name": "stdout",
     "output_type": "stream",
     "text": [
      "Всего в 2019 году было 581 сообщерний содержащих слово python\n"
     ]
    }
   ],
   "source": [
    "#Посчитаем сколько раз слово python упомянулось в прошлом году\n",
    "python_count2019 = df_python[df_python[\"date\"].apply(lambda x: x.year==2019)].shape[0]\n",
    "print(f\"Всего в 2019 году было {python_count2019} сообщерний содержащих слово python\")"
   ]
  },
  {
   "cell_type": "code",
   "execution_count": 18,
   "metadata": {},
   "outputs": [
    {
     "name": "stdout",
     "output_type": "stream",
     "text": [
      "Число упоминаний python выросло в 2020 году по сравнению с 2019 в 1.0860585197934596\n"
     ]
    }
   ],
   "source": [
    "#Сравним количество появлений слов python за 2020 и 2019 годы\n",
    "if python_count2020 > python_count2019:\n",
    "    print(f\"Число упоминаний python выросло в 2020 году по сравнению с 2019 в {python_count2020 / float(python_count2019)}\")\n",
    "else:\n",
    "    print(f\"Число упоминаний python упало в 2020 году по сравнению с 2019 в {python_count2020 / float(python_count2019)}\")"
   ]
  },
  {
   "cell_type": "code",
   "execution_count": 19,
   "metadata": {},
   "outputs": [
    {
     "data": {
      "text/html": [
       "<div>\n",
       "<style scoped>\n",
       "    .dataframe tbody tr th:only-of-type {\n",
       "        vertical-align: middle;\n",
       "    }\n",
       "\n",
       "    .dataframe tbody tr th {\n",
       "        vertical-align: top;\n",
       "    }\n",
       "\n",
       "    .dataframe thead th {\n",
       "        text-align: right;\n",
       "    }\n",
       "</style>\n",
       "<table border=\"1\" class=\"dataframe\">\n",
       "  <thead>\n",
       "    <tr style=\"text-align: right;\">\n",
       "      <th></th>\n",
       "      <th>text</th>\n",
       "      <th>author</th>\n",
       "      <th>date</th>\n",
       "    </tr>\n",
       "  </thead>\n",
       "  <tbody>\n",
       "    <tr>\n",
       "      <th>37</th>\n",
       "      <td>ты решил написать свой фреймворк. стоило оно т...</td>\n",
       "      <td>-20629724</td>\n",
       "      <td>2020-09-04 12:30:35</td>\n",
       "    </tr>\n",
       "    <tr>\n",
       "      <th>65</th>\n",
       "      <td>📌 proglib в telegram  для новичков в нашей гру...</td>\n",
       "      <td>-54530371</td>\n",
       "      <td>2020-02-27 14:05:05</td>\n",
       "    </tr>\n",
       "    <tr>\n",
       "      <th>70</th>\n",
       "      <td>👨🏼‍🎓профессиональный курс \"backend разработчик...</td>\n",
       "      <td>-79831840</td>\n",
       "      <td>2019-05-23 19:00:01</td>\n",
       "    </tr>\n",
       "    <tr>\n",
       "      <th>189</th>\n",
       "      <td>php. основы оопphp. основы ооп. урок 1php. осн...</td>\n",
       "      <td>-79831840</td>\n",
       "      <td>2019-08-15 18:00:00</td>\n",
       "    </tr>\n",
       "    <tr>\n",
       "      <th>233</th>\n",
       "      <td>регулярные выражения: базовое знакомство для н...</td>\n",
       "      <td>-54530371</td>\n",
       "      <td>2019-09-24 18:26:47</td>\n",
       "    </tr>\n",
       "  </tbody>\n",
       "</table>\n",
       "</div>"
      ],
      "text/plain": [
       "                                                  text    author  \\\n",
       "37   ты решил написать свой фреймворк. стоило оно т... -20629724   \n",
       "65   📌 proglib в telegram  для новичков в нашей гру... -54530371   \n",
       "70   👨🏼‍🎓профессиональный курс \"backend разработчик... -79831840   \n",
       "189  php. основы оопphp. основы ооп. урок 1php. осн... -79831840   \n",
       "233  регулярные выражения: базовое знакомство для н... -54530371   \n",
       "\n",
       "                   date  \n",
       "37  2020-09-04 12:30:35  \n",
       "65  2020-02-27 14:05:05  \n",
       "70  2019-05-23 19:00:01  \n",
       "189 2019-08-15 18:00:00  \n",
       "233 2019-09-24 18:26:47  "
      ]
     },
     "execution_count": 19,
     "metadata": {},
     "output_type": "execute_result"
    }
   ],
   "source": [
    "#Соберем все синонимы слова php\n",
    "php_synonyms = [\"php\", \"пхп\"]\n",
    "#Теперь посмотрим сколько строк сожержат слово php\n",
    "df_php = df[df[\"text\"].apply(lambda x: any([y in x for y in php_synonyms]))]\n",
    "df_php.head()"
   ]
  },
  {
   "cell_type": "code",
   "execution_count": 20,
   "metadata": {},
   "outputs": [
    {
     "name": "stdout",
     "output_type": "stream",
     "text": [
      "Всего строк содержащих слово python: 297\n"
     ]
    }
   ],
   "source": [
    "#Посмотрим сколько всеего строк сожержат слово php \n",
    "print(f\"Всего строк содержащих слово python: {df_php.shape[0]}\")"
   ]
  },
  {
   "cell_type": "code",
   "execution_count": 21,
   "metadata": {},
   "outputs": [
    {
     "name": "stdout",
     "output_type": "stream",
     "text": [
      "Всего в 2020 году было 118 сообщерний содержащих слово php\n",
      "Всего в 2019 году было 144 сообщерний содержащих слово php\n"
     ]
    }
   ],
   "source": [
    "df_php = df_php.assign(year_month = df_php[\"date\"].apply(lambda x: f\"{x.year}_{x.month}\"))\n",
    "#Посчитаем сколько раз слово php упомянулось в этом году\n",
    "php_count2020 = df_php[df_php[\"date\"].apply(lambda x: x.year==2020)].shape[0]\n",
    "print(f\"Всего в 2020 году было {php_count2020} сообщерний содержащих слово php\")\n",
    "#Посчитаем сколько раз слово php упомянулось в прошлом году\n",
    "php_count2019 = df_php[df_php[\"date\"].apply(lambda x: x.year==2019)].shape[0]\n",
    "print(f\"Всего в 2019 году было {php_count2019} сообщерний содержащих слово php\")"
   ]
  },
  {
   "cell_type": "code",
   "execution_count": 22,
   "metadata": {},
   "outputs": [
    {
     "name": "stdout",
     "output_type": "stream",
     "text": [
      "Число упоминаний php упало в 2020 году по сравнению с 2019 в 0.8194444444444444\n"
     ]
    }
   ],
   "source": [
    "#Сравним количество появлений слов php за 2020 и 2019 годы\n",
    "if php_count2020 > php_count2019:\n",
    "    print(f\"Число упоминаний php выросло в 2020 году по сравнению с 2019 в {php_count2020 / float(php_count2019)}\")\n",
    "else:\n",
    "    print(f\"Число упоминаний php упало в 2020 году по сравнению с 2019 в {php_count2020 / float(php_count2019)}\")"
   ]
  },
  {
   "cell_type": "code",
   "execution_count": null,
   "metadata": {},
   "outputs": [],
   "source": []
  }
 ],
 "metadata": {
  "kernelspec": {
   "display_name": "Python 3",
   "language": "python",
   "name": "python3"
  },
  "language_info": {
   "codemirror_mode": {
    "name": "ipython",
    "version": 3
   },
   "file_extension": ".py",
   "mimetype": "text/x-python",
   "name": "python",
   "nbconvert_exporter": "python",
   "pygments_lexer": "ipython3",
   "version": "3.7.4"
  }
 },
 "nbformat": 4,
 "nbformat_minor": 2
}

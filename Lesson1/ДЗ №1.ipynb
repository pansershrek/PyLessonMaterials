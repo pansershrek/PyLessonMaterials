{
 "cells": [
  {
   "cell_type": "markdown",
   "metadata": {},
   "source": [
    "Выведие длину каждой строки"
   ]
  },
  {
   "cell_type": "code",
   "execution_count": null,
   "metadata": {},
   "outputs": [],
   "source": [
    "#Hint: вспомните прор функцию длины строки\n",
    "s1 = \"Acta est fabŭla\"\n",
    "s2 = \"Memento mori!\"\n",
    "s3 = \"Ученье - свет, а неученых - тьма\"\n",
    "s1_len = # Напишите здесь свое выражение.\n",
    "s2_len = # Напишите здесь свое выражение.\n",
    "s3_len = # Напишите здесь свое выражение.\n",
    "print(s1_len, s2_len, s3_len)"
   ]
  },
  {
   "cell_type": "markdown",
   "metadata": {},
   "source": [
    "Сложите из предоставленных строк слово \"Excellent\"."
   ]
  },
  {
   "cell_type": "code",
   "execution_count": null,
   "metadata": {},
   "outputs": [],
   "source": [
    "#Hint: используйте операцию +\n",
    "s1 = \"Ex\"\n",
    "s2 = \"lent\"\n",
    "s3 = \"cel\"\n",
    "s4 = \"en\"\n",
    "\n",
    "result =  # Напишите здесь свое выражение.  \n",
    "print(result)"
   ]
  },
  {
   "cell_type": "markdown",
   "metadata": {},
   "source": [
    "Сложите из предоставленных строк слово \"FizzFizzBuzzBuzzBuzzFizz\""
   ]
  },
  {
   "cell_type": "code",
   "execution_count": null,
   "metadata": {},
   "outputs": [],
   "source": [
    "#Hint: используйте операцию * для повторения строк\n",
    "s1 = \"Fizz\"\n",
    "s2 = \"Buzz\"\n",
    "\n",
    "result =  # Напишите здесь свое выражение.  \n",
    "print(result)"
   ]
  },
  {
   "cell_type": "markdown",
   "metadata": {},
   "source": [
    "Поместите в переменные a, c, f соответсвующие символы из строки s1, а потом выведите их"
   ]
  },
  {
   "cell_type": "code",
   "execution_count": null,
   "metadata": {},
   "outputs": [],
   "source": [
    "#Hint: используйте обращения по индексу\n",
    "s1 = \"abcdefg\"\n",
    "a = # Напишите здесь свое выражение.  \n",
    "c = # Напишите здесь свое выражение.  \n",
    "f = # Напишите здесь свое выражение.  \n",
    "print(a, c, f)"
   ]
  },
  {
   "cell_type": "markdown",
   "metadata": {},
   "source": [
    "Преобразуте строку \"hello world\" в \"world hello\""
   ]
  },
  {
   "cell_type": "code",
   "execution_count": null,
   "metadata": {},
   "outputs": [],
   "source": [
    "#Hint: используйте срезы\n",
    "s1 = \"hello world\"\n",
    "result = # Напишите здесь свое выражение.  \n",
    "print(result)"
   ]
  },
  {
   "cell_type": "markdown",
   "metadata": {},
   "source": [
    "Выдетиде буквы, находящиеся на нечетных местах в строке \"ABCDEFGH\""
   ]
  },
  {
   "cell_type": "code",
   "execution_count": null,
   "metadata": {},
   "outputs": [],
   "source": [
    "#Hint: используйте срезы\n",
    "s1 = \"ABCDEFGH\"\n",
    "result = # Напишите здесь свое выражение.  \n",
    "print(result)"
   ]
  },
  {
   "cell_type": "markdown",
   "metadata": {},
   "source": [
    "Соберите из предоставленных строк дату в формате ДД:ММ:ГГГГ "
   ]
  },
  {
   "cell_type": "code",
   "execution_count": null,
   "metadata": {},
   "outputs": [],
   "source": [
    "#Hint: для заполения нулями воспользуйтесь функцией zfill\n",
    "day = \"1\"\n",
    "month = \"9\"\n",
    "year = \"2020\"\n",
    "result = # Напишите здесь свое выражение.  \n",
    "print(result)"
   ]
  },
  {
   "cell_type": "markdown",
   "metadata": {},
   "source": [
    "Уберите лишнии проьелы в конце и начале строки"
   ]
  },
  {
   "cell_type": "code",
   "execution_count": null,
   "metadata": {},
   "outputs": [],
   "source": [
    "#Hint: вспомните про lstrip, rstrip, strip\n",
    "left_space = \"  I am Alpharius\"\n",
    "right_space = \"Lion is a traitor    \"\n",
    "both_space =. \"   More spaces for God of spaces    \"\n",
    "left_space_result = # Напишите здесь свое выражение.  \n",
    "right_space_result = # Напишите здесь свое выражение.  \n",
    "both_space_result = # Напишите здесь свое выражение.  \n",
    "print(left_space_result, right_space_result, both_space_result)"
   ]
  },
  {
   "cell_type": "markdown",
   "metadata": {},
   "source": [
    "Приобразуйте строку к виду \"BUZZfizz\""
   ]
  },
  {
   "cell_type": "code",
   "execution_count": null,
   "metadata": {},
   "outputs": [],
   "source": [
    "#Hint: используйте upper и lower\n",
    "s1 = \"FIZZbuzz\"\n",
    "result = # Напишите здесь свое выражение.  \n",
    "print(result)"
   ]
  },
  {
   "cell_type": "markdown",
   "metadata": {},
   "source": [
    "Приведите показатели счетчиков к единой длине целой и дробной части, заполнив незначимыми ведущиими/конечными нулями"
   ]
  },
  {
   "cell_type": "code",
   "execution_count": null,
   "metadata": {},
   "outputs": [],
   "source": [
    "#Hint: используйте rjust и ljust\n",
    "meter1 = \"1.34\"\n",
    "meter2 = \"1111.1\"\n",
    "meter3 = \"23.1\"\n",
    "meter4 = \"0.000001\"\n",
    "result_meter1 = # Напишите здесь свое выражение.\n",
    "result_meter2 = # Напишите здесь свое выражение.\n",
    "result_meter3 = # Напишите здесь свое выражение.\n",
    "result_meter4 = # Напишите здесь свое выражение.\n",
    "print(result_meter1, result_meter2, result_meter3, result_meter4, sep=\"\\n\")"
   ]
  },
  {
   "cell_type": "markdown",
   "metadata": {},
   "source": [
    "Выведите - начинаются ли строки с left_pattern=\"My name is\" и заканчивыются ли с right_pattern\"world\""
   ]
  },
  {
   "cell_type": "code",
   "execution_count": null,
   "metadata": {},
   "outputs": [],
   "source": [
    "#Hint: вспомните про функции проверки начала и конца строки\n",
    "s1 = \"my name is Karl. I am the king of the world\"\n",
    "s2 = \"My name is Mark. I want to rule the World\"\n",
    "s3 = \"I am the pop-star of this world)\"\n",
    "left_pattern_result1 = # Напишите здесь свое выражение.\n",
    "left_pattern_result2 = # Напишите здесь свое выражение.\n",
    "left_pattern_result3 = # Напишите здесь свое выражение.\n",
    "right_pattern_result1 = # Напишите здесь свое выражение.\n",
    "right_pattern_result2 = # Напишите здесь свое выражение.\n",
    "right_pattern_result3 = # Напишите здесь свое выражение.\n",
    "print(\"s1 start with left_pattern:\", left_pattern_result1 ,\", s1 ends with righ_pattern:\", right_pattern_result1)\n",
    "print(\"s2 start with left_pattern:\", left_pattern_result2 ,\", s2 ends with righ_pattern:\", right_pattern_result2)\n",
    "print(\"s3 start with left_pattern:\", left_pattern_result3 ,\", s3 ends with righ_pattern:\", right_pattern_result3)"
   ]
  },
  {
   "cell_type": "markdown",
   "metadata": {},
   "source": [
    "Проверить удовлетворяют строки следующим условиям:\n",
    "    1. Все символы находятся в верхнем регистре\n",
    "    2. Все симовлы назодятся в нижнем регистре\n",
    "    3. Каждое слово начианется с заглавной буквы\n",
    "Выведити строк и за ней результат применений каждого условия, после выведите эту же строку, но каждое слово, которого начинается с болищой буквы, а все остальные буквы малые."
   ]
  },
  {
   "cell_type": "code",
   "execution_count": null,
   "metadata": {},
   "outputs": [],
   "source": [
    "#Hint: вспомните про соответствующие функции строк\n",
    "s1 = \"Quia nominor leo\"\n",
    "s2 = \"Scientia Est Potentia\"\n",
    "s3 = \"si vis amari, ama!\"\n",
    "s4 = \"VENI VIDI VICI\""
   ]
  },
  {
   "cell_type": "markdown",
   "metadata": {},
   "source": [
    "Выведите первую позицию и общее количество всреченных в строке слов \"Андрей\", в случае отсутствия вхождени выведите -1"
   ]
  },
  {
   "cell_type": "code",
   "execution_count": null,
   "metadata": {},
   "outputs": [],
   "source": [
    "#Hint: вспомните про соответствующие функции строк\n",
    "s1 = \"Что это? я падаю! у меня ноги подкашиваются» , — подумал он и упал на спину. Он раскрыл глаза, надеясь увидать, чем кончилась борьба французов с артиллеристами, и желая знать, убит или нет рыжий артиллерист, взяты или спасены пушки. Но он ничего не видал. Над ним не было ничего уже, кроме неба, — высокого неба, не ясного, но все-таки неизмеримо высокого, с тихо ползущими по нем серыми облаками. «Как тихо, спокойно и торжественно, совсем не так, как я бежал, — подумал князь Андрей, — не так, как мы бежали, кричали и дрались; совсем не так, как с озлобленными и испуганными лицами тащили друг у друга банник француз и артиллерист, — совсем не так ползут облака по этому высокому бесконечному небу. Как же я не видал прежде этого высокого неба? И как я счастлив, что узнал его наконец. Да! все пустое, все обман, кроме этого бесконечного неба. Ничего, ничего нет, кроме его. Но и того даже нет, ничего нет, кроме тишины, успокоения. И слава Богу!.. »\"\n",
    "s2 = '\"Да, здесь, в этом лесу был этот дуб, с которым мы были согласны,-  подумал князь Андрей. - Да где он\",- подумал опять князь Андрей, глядя на левую сторону дороги и, сам того не зная, не узнавая его, любовался тем дубом, которого он искал. Старый дуб, весь преображенный, раскинувшись шатром сочной, темной зелени, млел, чуть колыхаясь в лучах вечернего солнца. Ни корявых пальцев, ни болячек, ни старого недоверия и горя - ничего не было видно. Сквозь жесткую, столетнюю кору пробились без сучков сочные, молодые листья, так что верить нельзя было, что этот старик произвел их. \"Да  это тот самый дуб\", -  подумал князь Андрей, и на него вдруг нашло беспричинное  весеннее чувство радости и обновления. Все лучшие минуты его жизни вдруг в одно и то же время вспомнились ему. И Аустерлиц с высоким небом, и мертвое, укоризненное лицо жены, и Пьер на пароме, и девочка, взволнованная красотою ночи, и эта ночь, и луна - и все это вдруг вспомнилось ему.'\n",
    "s3 = \"По свидетельству Плутарха, этой фразой Юлий Цезарь сообщил в письме к своему другу Аминтию о победе над понтийским царем Фарнаком в августе 47 г. до н. э. Светоний сообщает, что эта фраза была начертана на доске, которую несли перед Цезарем во время понтийского триумфа.\"\n",
    "print(\"First appearance in s1 is\", ,\"all appearance count in s1 is\", )\n",
    "print(\"First appearance in s2 is\", ,\"all appearance count in s2 is\", )\n",
    "print(\"First appearance in s3 is\", ,\"all appearance count in s3 is\", )"
   ]
  },
  {
   "cell_type": "code",
   "execution_count": null,
   "metadata": {},
   "outputs": [],
   "source": []
  }
 ],
 "metadata": {
  "kernelspec": {
   "display_name": "Python 3",
   "language": "python",
   "name": "python3"
  },
  "language_info": {
   "codemirror_mode": {
    "name": "ipython",
    "version": 3
   },
   "file_extension": ".py",
   "mimetype": "text/x-python",
   "name": "python",
   "nbconvert_exporter": "python",
   "pygments_lexer": "ipython3",
   "version": "3.7.4"
  }
 },
 "nbformat": 4,
 "nbformat_minor": 2
}
